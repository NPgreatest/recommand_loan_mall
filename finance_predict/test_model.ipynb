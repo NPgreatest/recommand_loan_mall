{
 "cells": [
  {
   "cell_type": "code",
   "execution_count": 14,
   "metadata": {
    "collapsed": true,
    "pycharm": {
     "name": "#%%\n"
    }
   },
   "outputs": [
    {
     "data": {
      "text/plain": "     Gender Married Dependents     Education Self_Employed  ApplicantIncome  \\\n0      Male     Yes          1      Graduate            No             4583   \n1      Male     Yes          0      Graduate           Yes             3000   \n2      Male     Yes          0  Not Graduate            No             2583   \n3      Male      No          0      Graduate            No             6000   \n4      Male     Yes          0  Not Graduate            No             2333   \n..      ...     ...        ...           ...           ...              ...   \n376    Male     Yes         3+      Graduate            No             5703   \n377    Male     Yes          0      Graduate            No             3232   \n378  Female      No          0      Graduate            No             2900   \n379    Male     Yes         3+      Graduate            No             4106   \n380  Female      No          0      Graduate           Yes             4583   \n\n     CoapplicantIncome  LoanAmount  Loan_Amount_Term  Credit_History  \\\n0               1508.0       128.0             360.0             1.0   \n1                  0.0        66.0             360.0             1.0   \n2               2358.0       120.0             360.0             1.0   \n3                  0.0       141.0             360.0             1.0   \n4               1516.0        95.0             360.0             1.0   \n..                 ...         ...               ...             ...   \n376                0.0       128.0             360.0             1.0   \n377             1950.0       108.0             360.0             1.0   \n378                0.0        71.0             360.0             1.0   \n379                0.0        40.0             180.0             1.0   \n380                0.0       133.0             360.0             0.0   \n\n    Property_Area Loan_Status  \n0           Rural           N  \n1           Urban           Y  \n2           Urban           Y  \n3           Urban           Y  \n4           Urban           Y  \n..            ...         ...  \n376         Urban           Y  \n377         Rural           Y  \n378         Rural           Y  \n379         Rural           Y  \n380     Semiurban           N  \n\n[351 rows x 12 columns]",
      "text/html": "<div>\n<style scoped>\n    .dataframe tbody tr th:only-of-type {\n        vertical-align: middle;\n    }\n\n    .dataframe tbody tr th {\n        vertical-align: top;\n    }\n\n    .dataframe thead th {\n        text-align: right;\n    }\n</style>\n<table border=\"1\" class=\"dataframe\">\n  <thead>\n    <tr style=\"text-align: right;\">\n      <th></th>\n      <th>Gender</th>\n      <th>Married</th>\n      <th>Dependents</th>\n      <th>Education</th>\n      <th>Self_Employed</th>\n      <th>ApplicantIncome</th>\n      <th>CoapplicantIncome</th>\n      <th>LoanAmount</th>\n      <th>Loan_Amount_Term</th>\n      <th>Credit_History</th>\n      <th>Property_Area</th>\n      <th>Loan_Status</th>\n    </tr>\n  </thead>\n  <tbody>\n    <tr>\n      <th>0</th>\n      <td>Male</td>\n      <td>Yes</td>\n      <td>1</td>\n      <td>Graduate</td>\n      <td>No</td>\n      <td>4583</td>\n      <td>1508.0</td>\n      <td>128.0</td>\n      <td>360.0</td>\n      <td>1.0</td>\n      <td>Rural</td>\n      <td>N</td>\n    </tr>\n    <tr>\n      <th>1</th>\n      <td>Male</td>\n      <td>Yes</td>\n      <td>0</td>\n      <td>Graduate</td>\n      <td>Yes</td>\n      <td>3000</td>\n      <td>0.0</td>\n      <td>66.0</td>\n      <td>360.0</td>\n      <td>1.0</td>\n      <td>Urban</td>\n      <td>Y</td>\n    </tr>\n    <tr>\n      <th>2</th>\n      <td>Male</td>\n      <td>Yes</td>\n      <td>0</td>\n      <td>Not Graduate</td>\n      <td>No</td>\n      <td>2583</td>\n      <td>2358.0</td>\n      <td>120.0</td>\n      <td>360.0</td>\n      <td>1.0</td>\n      <td>Urban</td>\n      <td>Y</td>\n    </tr>\n    <tr>\n      <th>3</th>\n      <td>Male</td>\n      <td>No</td>\n      <td>0</td>\n      <td>Graduate</td>\n      <td>No</td>\n      <td>6000</td>\n      <td>0.0</td>\n      <td>141.0</td>\n      <td>360.0</td>\n      <td>1.0</td>\n      <td>Urban</td>\n      <td>Y</td>\n    </tr>\n    <tr>\n      <th>4</th>\n      <td>Male</td>\n      <td>Yes</td>\n      <td>0</td>\n      <td>Not Graduate</td>\n      <td>No</td>\n      <td>2333</td>\n      <td>1516.0</td>\n      <td>95.0</td>\n      <td>360.0</td>\n      <td>1.0</td>\n      <td>Urban</td>\n      <td>Y</td>\n    </tr>\n    <tr>\n      <th>...</th>\n      <td>...</td>\n      <td>...</td>\n      <td>...</td>\n      <td>...</td>\n      <td>...</td>\n      <td>...</td>\n      <td>...</td>\n      <td>...</td>\n      <td>...</td>\n      <td>...</td>\n      <td>...</td>\n      <td>...</td>\n    </tr>\n    <tr>\n      <th>376</th>\n      <td>Male</td>\n      <td>Yes</td>\n      <td>3+</td>\n      <td>Graduate</td>\n      <td>No</td>\n      <td>5703</td>\n      <td>0.0</td>\n      <td>128.0</td>\n      <td>360.0</td>\n      <td>1.0</td>\n      <td>Urban</td>\n      <td>Y</td>\n    </tr>\n    <tr>\n      <th>377</th>\n      <td>Male</td>\n      <td>Yes</td>\n      <td>0</td>\n      <td>Graduate</td>\n      <td>No</td>\n      <td>3232</td>\n      <td>1950.0</td>\n      <td>108.0</td>\n      <td>360.0</td>\n      <td>1.0</td>\n      <td>Rural</td>\n      <td>Y</td>\n    </tr>\n    <tr>\n      <th>378</th>\n      <td>Female</td>\n      <td>No</td>\n      <td>0</td>\n      <td>Graduate</td>\n      <td>No</td>\n      <td>2900</td>\n      <td>0.0</td>\n      <td>71.0</td>\n      <td>360.0</td>\n      <td>1.0</td>\n      <td>Rural</td>\n      <td>Y</td>\n    </tr>\n    <tr>\n      <th>379</th>\n      <td>Male</td>\n      <td>Yes</td>\n      <td>3+</td>\n      <td>Graduate</td>\n      <td>No</td>\n      <td>4106</td>\n      <td>0.0</td>\n      <td>40.0</td>\n      <td>180.0</td>\n      <td>1.0</td>\n      <td>Rural</td>\n      <td>Y</td>\n    </tr>\n    <tr>\n      <th>380</th>\n      <td>Female</td>\n      <td>No</td>\n      <td>0</td>\n      <td>Graduate</td>\n      <td>Yes</td>\n      <td>4583</td>\n      <td>0.0</td>\n      <td>133.0</td>\n      <td>360.0</td>\n      <td>0.0</td>\n      <td>Semiurban</td>\n      <td>N</td>\n    </tr>\n  </tbody>\n</table>\n<p>351 rows × 12 columns</p>\n</div>"
     },
     "execution_count": 14,
     "metadata": {},
     "output_type": "execute_result"
    }
   ],
   "source": [
    "import pandas as pd\n",
    "import numpy as np\n",
    "import matplotlib.pyplot as plt\n",
    "import seaborn as sns\n",
    "from sklearn.metrics import accuracy_score, confusion_matrix, classification_report\n",
    "from yellowbrick.classifier import ConfusionMatrix\n",
    "from sklearn.model_selection import GridSearchCV\n",
    "from imblearn.over_sampling import RandomOverSampler\n",
    "from sklearn.preprocessing import LabelEncoder\n",
    "from sklearn.preprocessing import StandardScaler\n",
    "from sklearn.model_selection import train_test_split\n",
    "from sklearn.ensemble import RandomForestClassifier\n",
    "df = pd.read_csv('loan_data.csv')\n",
    "\n",
    "df = df[df['Credit_History'].notnull()]\n",
    "df['Gender']=df['Gender'].fillna(df['Gender'].mode()[0])\n",
    "df['Married']=df['Married'].fillna(df['Married'].mode()[0])\n",
    "df['Dependents']=df['Dependents'].fillna(df['Dependents'].mode()[0])\n",
    "df['Self_Employed']=df['Self_Employed'].fillna(df['Self_Employed'].mode()[0])\n",
    "df['LoanAmount']=df['LoanAmount'].fillna(df['LoanAmount'].mean())\n",
    "df['Loan_Amount_Term']=df['Loan_Amount_Term'].fillna(df['Loan_Amount_Term'].mean())\n",
    "df = df.drop('Loan_ID', axis = 1)\n",
    "df"
   ]
  },
  {
   "cell_type": "code",
   "execution_count": 15,
   "outputs": [
    {
     "data": {
      "text/plain": "<Figure size 800x550 with 1 Axes>",
      "image/png": "[encoded data removed]"
     },
     "metadata": {},
     "output_type": "display_data"
    }
   ],
   "source": [
    "X = df.drop('Loan_Status', axis = 1)\n",
    "X = X.values\n",
    "y = df['Loan_Status']\n",
    "ros = RandomOverSampler(random_state=0)\n",
    "X, y = ros.fit_resample(X, y)\n",
    "ax = sns.countplot(x=y)"
   ],
   "metadata": {
    "collapsed": false,
    "pycharm": {
     "name": "#%%\n"
    }
   }
  },
  {
   "cell_type": "code",
   "execution_count": 16,
   "outputs": [],
   "source": [
    "label_encoder_Gender = LabelEncoder()\n",
    "label_encoder_Married = LabelEncoder()\n",
    "label_encoder_Dependents = LabelEncoder()\n",
    "label_encoder_Education = LabelEncoder()\n",
    "label_encoder_Self_Employed = LabelEncoder()\n",
    "label_encoder_Property_Area = LabelEncoder()\n",
    "label_encoder_Loan_Status = LabelEncoder()\n",
    "X[:,0] = label_encoder_Gender.fit_transform(X[:,0])\n",
    "X[:,1] = label_encoder_Married.fit_transform(X[:,1])\n",
    "X[:,2] = label_encoder_Dependents.fit_transform(X[:,2])\n",
    "X[:,3] = label_encoder_Education.fit_transform(X[:,3])\n",
    "X[:,4] = label_encoder_Self_Employed.fit_transform(X[:,4])\n",
    "X[:,10] = label_encoder_Property_Area.fit_transform(X[:,10])\n",
    "y = label_encoder_Loan_Status.fit_transform(y)"
   ],
   "metadata": {
    "collapsed": false,
    "pycharm": {
     "name": "#%%\n"
    }
   }
  },
  {
   "cell_type": "code",
   "execution_count": 17,
   "outputs": [
    {
     "data": {
      "text/plain": "((441, 11), (441,), (49, 11), (49,))"
     },
     "execution_count": 17,
     "metadata": {},
     "output_type": "execute_result"
    }
   ],
   "source": [
    "scaler = StandardScaler()\n",
    "X_standard = scaler.fit_transform(X)\n",
    "X_train, X_test, y_train, y_test = train_test_split(X_standard, y, test_size = 0.1, random_state = 0)\n",
    "X_train.shape, y_train.shape,X_test.shape, y_test.shape"
   ],
   "metadata": {
    "collapsed": false,
    "pycharm": {
     "name": "#%%\n"
    }
   }
  },
  {
   "cell_type": "code",
   "execution_count": 18,
   "outputs": [
    {
     "name": "stdout",
     "output_type": "stream",
     "text": [
      "Algorithm:  entropy\n",
      "Score:  0.9046731358529112\n",
      "              precision    recall  f1-score   support\n",
      "\n",
      "           0       0.93      1.00      0.96        26\n",
      "           1       1.00      0.91      0.95        23\n",
      "\n",
      "    accuracy                           0.96        49\n",
      "   macro avg       0.96      0.96      0.96        49\n",
      "weighted avg       0.96      0.96      0.96        49\n",
      "\n"
     ]
    },
    {
     "data": {
      "text/plain": "<Figure size 800x550 with 1 Axes>",
      "image/png": "[encoded data removed]"
     },
     "metadata": {},
     "output_type": "display_data"
    }
   ],
   "source": [
    "n_estimators = np.array([100])\n",
    "alg = ['entropy', 'gini']\n",
    "values_grid = {'n_estimators': n_estimators, 'criterion': alg}\n",
    "model = RandomForestClassifier()\n",
    "gridRandomForest = GridSearchCV(estimator = model, param_grid = values_grid, cv = 5)\n",
    "gridRandomForest.fit(X_train, y_train)\n",
    "print('Algorithm: ', gridRandomForest.best_estimator_.criterion)\n",
    "print('Score: ', gridRandomForest.best_score_)\n",
    "random_forest = RandomForestClassifier(n_estimators = 100, criterion = 'gini', random_state = 0)\n",
    "random_forest.fit(X_train, y_train)\n",
    "previsoes = random_forest.predict(X_test)\n",
    "cm = ConfusionMatrix(random_forest)\n",
    "cm.fit(X_train, y_train)\n",
    "cm.score(X_test, y_test)\n",
    "classification_random = (classification_report(y_test, previsoes))\n",
    "print(classification_random)"
   ],
   "metadata": {
    "collapsed": false,
    "pycharm": {
     "name": "#%%\n"
    }
   }
  },
  {
   "cell_type": "code",
   "execution_count": 20,
   "outputs": [
    {
     "data": {
      "text/plain": "['label_encoder_Property_Area.joblib']"
     },
     "execution_count": 20,
     "metadata": {},
     "output_type": "execute_result"
    }
   ],
   "source": [
    "from joblib import dump\n",
    "dump(random_forest, 'random_forest_model.joblib')\n",
    "dump(scaler, 'scaler.joblib')\n",
    "dump(label_encoder_Gender, 'label_encoder_Gender.joblib')\n",
    "dump(label_encoder_Married, 'label_encoder_Married.joblib')\n",
    "dump(label_encoder_Dependents, 'label_encoder_Dependents.joblib')\n",
    "dump(label_encoder_Education, 'label_encoder_Education.joblib')\n",
    "dump(label_encoder_Self_Employed, 'label_encoder_Self_Employed.joblib')\n",
    "dump(label_encoder_Property_Area, 'label_encoder_Property_Area.joblib')"
   ],
   "metadata": {
    "collapsed": false,
    "pycharm": {
     "name": "#%%\n"
    }
   }
  },
  {
   "cell_type": "code",
   "execution_count": null,
   "outputs": [],
   "source": [],
   "metadata": {
    "collapsed": false,
    "pycharm": {
     "name": "#%%\n"
    }
   }
  }
 ],
 "metadata": {
  "kernelspec": {
   "display_name": "Python 3",
   "language": "python",
   "name": "python3"
  },
  "language_info": {
   "codemirror_mode": {
    "name": "ipython",
    "version": 2
   },
   "file_extension": ".py",
   "mimetype": "text/x-python",
   "name": "python",
   "nbconvert_exporter": "python",
   "pygments_lexer": "ipython2",
   "version": "2.7.6"
  }
 },
 "nbformat": 4,
 "nbformat_minor": 0
}