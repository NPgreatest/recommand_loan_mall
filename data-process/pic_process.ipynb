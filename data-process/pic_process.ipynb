{
 "cells": [
  {
   "cell_type": "code",
   "execution_count": 1,
   "metadata": {
    "collapsed": true,
    "pycharm": {
     "name": "#%%\n"
    }
   },
   "outputs": [],
   "source": [
    "import os\n",
    "import shutil"
   ]
  },
  {
   "cell_type": "code",
   "execution_count": 6,
   "outputs": [
    {
     "data": {
      "text/plain": "['file_4324418.jpg',\n 'file_4326821.jpg',\n 'file_4326822.jpg',\n 'file_4326823.jpg',\n 'file_4326824.jpg',\n 'file_4326825.jpg',\n 'file_4326826.jpg',\n 'file_4326827.jpg',\n 'file_4326828.jpg',\n 'file_4326829.jpg',\n 'file_4326830.jpg',\n 'file_4326831.jpg',\n 'file_4326832.jpg',\n 'file_4326833.jpg',\n 'file_4326834.jpg',\n 'file_4326835.jpg',\n 'file_4326836.jpg',\n 'file_4326837.jpg',\n 'file_4326838.jpg',\n 'file_4326839.jpg',\n 'file_4326840.jpg',\n 'file_4326841.jpg',\n 'file_4326842.jpg',\n 'file_4326843.jpg',\n 'file_4326844.jpg',\n 'file_4326845.jpg',\n 'file_4326846.jpg',\n 'file_4326847.jpg',\n 'file_4326848.jpg',\n 'file_4326849.jpg',\n 'file_4326850.jpg',\n 'file_4326851.jpg',\n 'file_4326852.jpg',\n 'file_4326853.jpg',\n 'file_4326854.jpg',\n 'file_4326855.jpg',\n 'file_4326856.jpg',\n 'file_4326857.jpg',\n 'file_4326858.jpg',\n 'file_4326859.jpg',\n 'file_4326860.jpg',\n 'file_4326861.jpg',\n 'file_4326862.jpg',\n 'file_4326863.jpg',\n 'file_4326864.jpg',\n 'file_4326865.jpg',\n 'file_4326866.jpg',\n 'file_4326867.jpg',\n 'file_4326868.jpg',\n 'file_4326869.jpg',\n 'file_4326870.jpg',\n 'file_4326871.jpg',\n 'file_4326872.jpg',\n 'file_4326873.jpg',\n 'file_4326874.jpg',\n 'file_4326875.jpg',\n 'file_4326876.jpg',\n 'file_4326877.jpg',\n 'file_4326878.jpg',\n 'file_4326879.jpg',\n 'file_4326880.jpg',\n 'file_4326881.jpg',\n 'file_4326882.jpg',\n 'file_4326883.jpg',\n 'file_4326884.jpg',\n 'file_4326885.jpg',\n 'file_4326886.jpg',\n 'file_4326887.jpg',\n 'file_4326888.jpg',\n 'file_4326889.jpg',\n 'file_4326890.jpg',\n 'file_4326891.jpg',\n 'file_4326892.jpg',\n 'file_4326893.jpg',\n 'file_4326894.jpg',\n 'file_4326895.jpg',\n 'file_4326896.jpg',\n 'file_4326897.jpg',\n 'file_4326898.jpg',\n 'file_4326899.jpg',\n 'file_4326900.jpg',\n 'file_4326901.jpg',\n 'file_4326902.jpg',\n 'file_4326903.jpg',\n 'file_4326904.jpg',\n 'file_4326905.jpg',\n 'file_4326906.jpg',\n 'file_4326907.jpg',\n 'file_4326908.jpg',\n 'file_4326909.jpg',\n 'file_4326910.jpg',\n 'file_4326911.jpg',\n 'file_4326912.jpg',\n 'file_4326913.jpg',\n 'file_4326914.jpg',\n 'file_4326915.jpg',\n 'file_4326916.jpg',\n 'file_4326917.jpg',\n 'file_4326918.jpg',\n 'file_4326919.jpg',\n 'file_4326920.jpg',\n 'file_4326921.jpg',\n 'file_4326922.jpg',\n 'file_4326923.jpg',\n 'file_4326924.jpg',\n 'file_4326925.jpg',\n 'file_4326926.jpg',\n 'file_4326927.jpg',\n 'file_4326928.jpg',\n 'file_4326929.jpg',\n 'file_4326930.jpg',\n 'file_4326931.jpg',\n 'file_4326932.jpg',\n 'file_4326933.jpg',\n 'file_4326934.jpg',\n 'file_4326935.jpg',\n 'file_4326936.jpg',\n 'file_4331293.jpg',\n 'file_4331294.jpg']"
     },
     "metadata": {},
     "output_type": "display_data"
    },
    {
     "name": "stdout",
     "output_type": "stream",
     "text": [
      "Files copied and renamed successfully.\n"
     ]
    }
   ],
   "source": [
    "def rename_and_copy_jpgs(source_folder, target_folder):\n",
    "    # 创建目标文件夹（如果不存在）\n",
    "    if not os.path.exists(target_folder):\n",
    "        os.makedirs(target_folder)\n",
    "\n",
    "    # 获取源文件夹中所有的.jpg文件\n",
    "    jpg_files = [f for f in os.listdir(source_folder) if f.endswith('.jpg')]\n",
    "    display(jpg_files)\n",
    "    # 重命名并复制文件\n",
    "    for idx, file in enumerate(jpg_files, start=1):\n",
    "        new_file_name = f'{idx}.jpg'\n",
    "        source_file_path = os.path.join(source_folder, file)\n",
    "        target_file_path = os.path.join(target_folder, new_file_name)\n",
    "\n",
    "        # 复制并重命名文件\n",
    "        shutil.copy2(source_file_path, target_file_path)\n",
    "\n",
    "    print(\"Files copied and renamed successfully.\")\n",
    "\n",
    "# 请将下面的路径替换为你的实际路径\n",
    "source_folder = 'pic'  # 源文件夹路径\n",
    "target_folder = '../back-end/images/'  # 目标文件夹路径\n",
    "\n",
    "rename_and_copy_jpgs(source_folder, target_folder)"
   ],
   "metadata": {
    "collapsed": false,
    "pycharm": {
     "name": "#%%\n"
    }
   }
  },
  {
   "cell_type": "code",
   "execution_count": 9,
   "outputs": [],
   "source": [
    "import mysql.connector\n",
    "def connect_to_database():\n",
    "    connection = mysql.connector.connect(\n",
    "        host='127.0.0.1',\n",
    "        user='root',\n",
    "        password='root',\n",
    "        database='mall'\n",
    "    )\n",
    "    return connection\n",
    "def insert_users(cursor, connection):\n",
    "    \"\"\"在数据库中插入用户数据\"\"\"\n",
    "    # 构建插入数据的 SQL 语句\n",
    "    insert_sql = \"\"\"\n",
    "    INSERT INTO mall.mall_user (user_id,nick_name, login_name, password_md5, introduce_sign,\n",
    "    is_deleted, locked_flag, create_time, avatar)\n",
    "    VALUES (%s,%s, %s, %s, %s, %s, %s, NOW(), %s);\n",
    "    \"\"\"\n",
    "    # 准备要插入的数据\n",
    "    for user_id in range(1, 101):\n",
    "        nick_name = f\"Amazon用户{user_id}\"\n",
    "        login_name = f\"user{user_id}\"  # 假设登录名为 user+id\n",
    "        password_md5 = \"d41d8cd98f00b204e9800998ecf8427e\"\n",
    "        introduce_sign = \"这是个性签名\"\n",
    "        is_deleted = 0\n",
    "        locked_flag = 0\n",
    "        avatar = f\"{user_id}.jpg\"\n",
    "\n",
    "        # 执行插入语句\n",
    "        cursor.execute(insert_sql, (user_id,nick_name, login_name, password_md5, introduce_sign,\n",
    "                                    is_deleted, locked_flag, avatar))\n",
    "\n",
    "    # 提交事务\n",
    "    connection.commit()\n",
    "\n",
    "# 连接到数据库\n",
    "connection = connect_to_database()\n",
    "cursor = connection.cursor()\n",
    "\n",
    "# 调用函数插入数据\n",
    "insert_users(cursor, connection)\n",
    "\n",
    "# 关闭连接和游标\n",
    "cursor.close()\n",
    "connection.close()\n"
   ],
   "metadata": {
    "collapsed": false,
    "pycharm": {
     "name": "#%%\n"
    }
   }
  },
  {
   "cell_type": "code",
   "execution_count": null,
   "outputs": [],
   "source": [],
   "metadata": {
    "collapsed": false,
    "pycharm": {
     "name": "#%%\n"
    }
   }
  }
 ],
 "metadata": {
  "kernelspec": {
   "display_name": "Python 3",
   "language": "python",
   "name": "python3"
  },
  "language_info": {
   "codemirror_mode": {
    "name": "ipython",
    "version": 2
   },
   "file_extension": ".py",
   "mimetype": "text/x-python",
   "name": "python",
   "nbconvert_exporter": "python",
   "pygments_lexer": "ipython2",
   "version": "2.7.6"
  }
 },
 "nbformat": 4,
 "nbformat_minor": 0
}